{
 "cells": [
  {
   "cell_type": "markdown",
   "metadata": {
    "id": "lVZpPNpJyMU5"
   },
   "source": [
    "Class Balance in Training set - Experiment 3 - distilBERT"
   ]
  },
  {
   "cell_type": "code",
   "execution_count": null,
   "metadata": {
    "colab": {
     "base_uri": "https://localhost:8080/"
    },
    "executionInfo": {
     "elapsed": 8,
     "status": "ok",
     "timestamp": 1741536333179,
     "user": {
      "displayName": "Laura Buigues",
      "userId": "10258854000803522964"
     },
     "user_tz": -60
    },
    "id": "lo04DVsYkHAi",
    "outputId": "0cb4b260-ec42-45fc-fde4-dfd27d84ce3f"
   },
   "outputs": [
    {
     "name": "stdout",
     "output_type": "stream",
     "text": [
      "cuda\n"
     ]
    }
   ],
   "source": [
    "R_SEED = 123\n",
    "\n",
    "import transformers\n",
    "from transformers import set_seed\n",
    "set_seed(R_SEED)\n",
    "\n",
    "import random\n",
    "random.seed(R_SEED)\n",
    "\n",
    "import numpy as np\n",
    "np.random.seed(R_SEED)\n",
    "\n",
    "import torch\n",
    "device = torch.device('cuda' if torch.cuda.is_available() else 'cpu')\n",
    "print(device)\n",
    "torch.manual_seed(R_SEED)\n",
    "torch.cuda.manual_seed(R_SEED)\n",
    "torch.cuda.manual_seed_all(R_SEED)\n",
    "torch.backends.cudnn.benchmark = False\n",
    "torch.backends.cudnn.deterministic = True"
   ]
  },
  {
   "cell_type": "code",
   "execution_count": null,
   "metadata": {
    "id": "de37zp5D0B5G"
   },
   "outputs": [],
   "source": [
    "#Import all required packages\n",
    "import pandas as pd\n",
    "from tqdm import tqdm\n",
    "from sklearn.model_selection import train_test_split\n",
    "from sklearn import preprocessing\n",
    "from sklearn.metrics import f1_score"
   ]
  },
  {
   "cell_type": "markdown",
   "metadata": {
    "id": "yNOkt00tzi7O"
   },
   "source": [
    "Get the dataset from Kaggle (a CSV file) ans plit the data intro training - dev - test."
   ]
  },
  {
   "cell_type": "code",
   "execution_count": null,
   "metadata": {
    "colab": {
     "base_uri": "https://localhost:8080/"
    },
    "executionInfo": {
     "elapsed": 4542,
     "status": "ok",
     "timestamp": 1741536345913,
     "user": {
      "displayName": "Laura Buigues",
      "userId": "10258854000803522964"
     },
     "user_tz": -60
    },
    "id": "xO_vCTrxzyFt",
    "outputId": "cc934bad-3f84-43d3-86d7-30e6196b087c"
   },
   "outputs": [
    {
     "name": "stdout",
     "output_type": "stream",
     "text": [
      "Downloading...\n",
      "From: https://drive.google.com/uc?id=17-D6ZC8k2XFh3XbjMkbeoSVSsf8vGie6\n",
      "To: /content/Combined Data.csv\n",
      "100% 31.5M/31.5M [00:00<00:00, 71.3MB/s]\n"
     ]
    }
   ],
   "source": [
    "!gdown 17-D6ZC8k2XFh3XbjMkbeoSVSsf8vGie6"
   ]
  },
  {
   "cell_type": "code",
   "execution_count": null,
   "metadata": {
    "colab": {
     "base_uri": "https://localhost:8080/"
    },
    "executionInfo": {
     "elapsed": 100,
     "status": "ok",
     "timestamp": 1741536349379,
     "user": {
      "displayName": "Laura Buigues",
      "userId": "10258854000803522964"
     },
     "user_tz": -60
    },
    "id": "AgMB7Dm5Dtyt",
    "outputId": "ebaa3aac-7efd-47b7-f5cd-a4e3b55ffbb3"
   },
   "outputs": [
    {
     "name": "stdout",
     "output_type": "stream",
     "text": [
      ",statement,status\n",
      "0,oh my gosh,Anxiety\n",
      "1,\"trouble sleeping, confused mind, restless heart. All out of tune\",Anxiety\n",
      "2,\"All wrong, back off dear, forward doubt. Stay in a restless and restless place\",Anxiety\n",
      "3,I've shifted my focus to something else but I'm still worried,Anxiety\n"
     ]
    }
   ],
   "source": [
    "!head -n 5 Combined\\ Data.csv"
   ]
  },
  {
   "cell_type": "markdown",
   "metadata": {
    "id": "w42AV1YcHTua"
   },
   "source": [
    "Get rid of NAN lines."
   ]
  },
  {
   "cell_type": "code",
   "execution_count": null,
   "metadata": {
    "id": "R1dqIOyp15qy"
   },
   "outputs": [],
   "source": [
    "data = pd.read_csv('/content/Combined Data.csv').dropna()\n",
    "X = data['statement']\n",
    "y = data['status']"
   ]
  },
  {
   "cell_type": "markdown",
   "metadata": {
    "id": "f9V7nQYw-XnJ"
   },
   "source": [
    "Mapping all the labels with different numbers (from 0 to 6 as there are 7 different labels)"
   ]
  },
  {
   "cell_type": "code",
   "execution_count": null,
   "metadata": {
    "colab": {
     "base_uri": "https://localhost:8080/"
    },
    "executionInfo": {
     "elapsed": 9,
     "status": "ok",
     "timestamp": 1741536354795,
     "user": {
      "displayName": "Laura Buigues",
      "userId": "10258854000803522964"
     },
     "user_tz": -60
    },
    "id": "2r1nuIRZ-EdZ",
    "outputId": "f281c1ff-2d02-4eb2-a239-770fe506cf49"
   },
   "outputs": [
    {
     "name": "stdout",
     "output_type": "stream",
     "text": [
      "['Anxiety', 'Bipolar', 'Depression', 'Normal', 'Personality disorder', 'Stress', 'Suicidal']\n"
     ]
    }
   ],
   "source": [
    "# https://scikit-learn.org/stable/modules/generated/sklearn.preprocessing.LabelEncoder.html\n",
    "enc = preprocessing.LabelEncoder()\n",
    "encoded_y = enc.fit_transform(y)\n",
    "print(list(enc.classes_))\n",
    "# decoded_y = enc.inverse_transform(encoded_y)"
   ]
  },
  {
   "cell_type": "code",
   "execution_count": null,
   "metadata": {
    "colab": {
     "base_uri": "https://localhost:8080/"
    },
    "executionInfo": {
     "elapsed": 1598,
     "status": "ok",
     "timestamp": 1741536357192,
     "user": {
      "displayName": "Laura Buigues",
      "userId": "10258854000803522964"
     },
     "user_tz": -60
    },
    "id": "l1hayn5zNFFb",
    "outputId": "6a3fc5c2-6eca-4f90-e801-061bad90a52b"
   },
   "outputs": [
    {
     "name": "stdout",
     "output_type": "stream",
     "text": [
      "Label 0: 2458\n",
      "Label 1: 1777\n",
      "Label 2: 4816\n",
      "Label 3: 4816\n",
      "Label 4: 690\n",
      "Label 5: 1656\n",
      "Label 6: 4816\n"
     ]
    },
    {
     "name": "stderr",
     "output_type": "stream",
     "text": [
      "<ipython-input-22-9c11e11c2fd6>:29: DeprecationWarning: DataFrameGroupBy.apply operated on the grouping columns. This behavior is deprecated, and in a future version of pandas the grouping columns will be excluded from the operation. Either pass `include_groups=False` to exclude the groupings or explicitly select the grouping columns after groupby to silence this warning.\n",
      "  train_filtered_df = train_df.groupby(\"y\").apply(lambda x: x.sample(min(len(x), train_max_per_class), random_state=R_SEED)).reset_index(drop=True)\n"
     ]
    }
   ],
   "source": [
    "dev_pcrt = 0.2\n",
    "\n",
    "# https://scikit-learn.org/stable/modules/generated/sklearn.model_selection.train_test_split.html\n",
    "\n",
    "X_train, X_test, y_train, y_test = train_test_split(\n",
    "  X,\n",
    "  encoded_y,\n",
    "  test_size=dev_pcrt,\n",
    "  random_state=R_SEED,\n",
    "  shuffle=True,\n",
    "  stratify=encoded_y,\n",
    ")\n",
    "\n",
    "X_train, X_dev, y_train, y_dev = train_test_split(\n",
    "  X_train,\n",
    "  y_train,\n",
    "  test_size=dev_pcrt,\n",
    "  random_state=R_SEED,\n",
    "  shuffle=True,\n",
    "  stratify=y_train,\n",
    ")\n",
    "\n",
    "#Class balance only in the training set\n",
    "train_max_per_class = len(X_train) // len(list(enc.classes_))\n",
    "train_df = pd.DataFrame({\"X\": list(X_train), \"y\": y_train})\n",
    "train_filtered_df = train_df.groupby(\"y\").apply(lambda x: x.sample(min(len(x), train_max_per_class), random_state=R_SEED)).reset_index(drop=True)\n",
    "X_train = np.array(train_filtered_df[\"X\"].tolist())\n",
    "y_train = train_filtered_df[\"y\"].values\n",
    "\n",
    "for label in range(0, 7):\n",
    "    print(f\"Label {label}: {train_filtered_df['y'].value_counts().get(label, 0)}\")\n"
   ]
  },
  {
   "cell_type": "code",
   "execution_count": null,
   "metadata": {
    "id": "Xp8BuACkGXmd"
   },
   "outputs": [],
   "source": [
    "del encoded_y, R_SEED, X, data, dev_pcrt, y"
   ]
  },
  {
   "cell_type": "markdown",
   "metadata": {
    "id": "CgF-l6Lu85Fq"
   },
   "source": [
    "Initilalize the 3 necessary functions:\n",
    "* `__init__`: This is executed whenever an instance of this is created.\n",
    "* `__getitem__`: This allows you to access any element using an index or index list.\n",
    "* `__len__`: This returns the number of elements."
   ]
  },
  {
   "cell_type": "code",
   "execution_count": null,
   "metadata": {
    "id": "UYUkVaxW5z7m"
   },
   "outputs": [],
   "source": [
    "class Dataset(torch.utils.data.Dataset):\n",
    "  def __init__(self, X_data, y_data, tokenizer):\n",
    "      super(Dataset, self).__init__()\n",
    "      self.data = []\n",
    "      self.tokenizer = tokenizer\n",
    "      for x, y in zip(X_data, y_data):\n",
    "        x = self.tokenizer(x, padding='max_length', truncation=True, max_length=512, return_tensors='pt')\n",
    "        x = { k:v.squeeze(0) for k,v in x.items() }\n",
    "        self.data.append([x, y])\n",
    "\n",
    "  def __getitem__(self, idx):\n",
    "      sent = self.data[idx][0]\n",
    "      lbl = self.data[idx][1]\n",
    "      return sent, lbl\n",
    "\n",
    "  def __len__(self):\n",
    "      return len(self.data)\n",
    "\n",
    "def collate_fn(batch):\n",
    "    inputs, labels = zip(*batch)\n",
    "    # Convert list of dicts into dict of tensors\n",
    "    batch_inputs = {key: torch.stack([x[key] for x in inputs]) for key in inputs[0].keys()}\n",
    "    # Convert labels into a tensor\n",
    "    batch_labels = torch.tensor(labels, dtype=torch.long)\n",
    "    return batch_inputs, batch_labels"
   ]
  },
  {
   "cell_type": "markdown",
   "metadata": {
    "id": "cs23C49XN5tg"
   },
   "source": [
    "Upload the BERT model. In our case, distilBERT architecture."
   ]
  },
  {
   "cell_type": "code",
   "execution_count": null,
   "metadata": {
    "id": "V7x1gMAx-8nR"
   },
   "outputs": [],
   "source": [
    "# https://huggingface.co/distilbert/distilbert-base-cased\n",
    "MODEL_NAME = 'distilbert/distilbert-base-cased'\n",
    "tokenizer = transformers.AutoTokenizer.from_pretrained(MODEL_NAME)\n",
    "train_set = Dataset(X_train, y_train, tokenizer)\n",
    "dev_set = Dataset(X_dev, y_dev, tokenizer)\n",
    "test_set = Dataset(X_test, y_test, tokenizer)"
   ]
  },
  {
   "cell_type": "code",
   "execution_count": null,
   "metadata": {
    "id": "38qVoonFIonB"
   },
   "outputs": [],
   "source": [
    "del X_dev, X_test, X_train, tokenizer, y_dev, y_train, y_test"
   ]
  },
  {
   "cell_type": "markdown",
   "metadata": {
    "id": "pzSo9Nk9N5th"
   },
   "source": [
    "EXPERIMENT 3 - EXPERIMENTAL SETTING + WEIGHT DECAY + SCHEDULER"
   ]
  },
  {
   "cell_type": "code",
   "execution_count": null,
   "metadata": {
    "id": "58Rub5etsjFh"
   },
   "outputs": [],
   "source": [
    "#Hyperparameters\n",
    "BATCH_SIZE = 64\n",
    "LR = 5e-5\n",
    "EPOCHS = 5\n",
    "WEIGHT_DECAY = 1e-2"
   ]
  },
  {
   "cell_type": "code",
   "execution_count": null,
   "metadata": {
    "id": "osYJcKJFuOSe"
   },
   "outputs": [],
   "source": [
    "train_loader = torch.utils.data.DataLoader(dataset=train_set, batch_size=BATCH_SIZE,\n",
    "                                           shuffle=True, collate_fn=collate_fn)\n",
    "dev_loader = torch.utils.data.DataLoader(dataset=dev_set, batch_size=BATCH_SIZE,\n",
    "                                         shuffle=False, collate_fn=collate_fn)\n",
    "test_loader = torch.utils.data.DataLoader(dataset=test_set, batch_size=BATCH_SIZE,\n",
    "                                          shuffle=False, collate_fn=collate_fn)"
   ]
  },
  {
   "cell_type": "code",
   "execution_count": null,
   "metadata": {
    "id": "3m4y4SWzsnzr"
   },
   "outputs": [],
   "source": [
    "def train_loop(dataloader, model, loss_fn, optimizer, device, scheduler):\n",
    "    model.train()\n",
    "    size = len(dataloader.dataset)\n",
    "    num_batches = len(dataloader)\n",
    "    train_loss, train_acc = 0, 0\n",
    "    all_preds, all_labels = [], []\n",
    "\n",
    "    for batch, (X, y) in tqdm(enumerate(dataloader), total=len(dataloader)):\n",
    "      X = {key: tensor.to(device) for key, tensor in X.items()}\n",
    "      y = y.to(device)\n",
    "      # Compute prediction and loss\n",
    "      pred = model(**X).logits\n",
    "      loss = loss_fn(pred, y)\n",
    "\n",
    "      # Backpropagation\n",
    "      optimizer.zero_grad()\n",
    "      loss.backward()\n",
    "      optimizer.step()\n",
    "\n",
    "      # Store loss and accuracy\n",
    "      train_loss += loss.item()\n",
    "      preds = pred.argmax(1)\n",
    "      train_acc += (preds == y).type(torch.float).sum().item()\n",
    "\n",
    "      all_preds.extend(preds.cpu().numpy())\n",
    "      all_labels.extend(y.cpu().numpy())\n",
    "\n",
    "      if batch % 50 == 0:\n",
    "        loss, current = loss.item(), batch * len(y)\n",
    "        print(f\"loss: {loss:>7f}  [{current:>5d}/{size:>5d}]\")\n",
    "\n",
    "    f1 = f1_score(all_labels, all_preds, average=\"macro\")\n",
    "\n",
    "    scheduler.step() # Calculate the new learning rate for the next epoch\n",
    "    train_loss /= num_batches\n",
    "    train_acc /= size\n",
    "    return train_loss, train_acc, f1"
   ]
  },
  {
   "cell_type": "markdown",
   "metadata": {
    "id": "QjT-xB03N5ti"
   },
   "source": [
    "Training and dev evaluation loops."
   ]
  },
  {
   "cell_type": "code",
   "execution_count": null,
   "metadata": {
    "id": "6e4FC_NjsyY3"
   },
   "outputs": [],
   "source": [
    "def eval_loop(dataloader, model, loss_fn, device):\n",
    "    model.eval()\n",
    "    size = len(dataloader.dataset)\n",
    "    num_batches = len(dataloader)\n",
    "    test_loss, test_acc = 0, 0\n",
    "    all_preds, all_labels = [], []\n",
    "\n",
    "    with torch.no_grad():\n",
    "        for X, y in tqdm(dataloader):\n",
    "          X = {key: tensor.to(device) for key, tensor in X.items()}\n",
    "          y = y.to(device)\n",
    "          pred = model(**X).logits\n",
    "          test_loss += loss_fn(pred, y).item()\n",
    "          preds = pred.argmax(1)\n",
    "          test_acc += (preds == y).type(torch.float).sum().item()\n",
    "          all_preds.extend(preds.cpu().numpy())\n",
    "          all_labels.extend(y.cpu().numpy())\n",
    "\n",
    "    f1 = f1_score(all_labels, all_preds, average=\"macro\")\n",
    "\n",
    "    test_loss /= num_batches\n",
    "    test_acc /= size\n",
    "    print(f\"Eval Error: \\n F1-macro: {f1} Accuracy: {(100*test_acc):>0.1f}%, Avg loss: {test_loss:>8f} \\n\")\n",
    "    return test_loss, test_acc, f1"
   ]
  },
  {
   "cell_type": "code",
   "execution_count": null,
   "metadata": {
    "colab": {
     "base_uri": "https://localhost:8080/",
     "height": 1000,
     "referenced_widgets": [
      "d057bebcc08c478689643845d85f9343",
      "c31961e607bb46bfa8711ab1c1380eb1",
      "8ca3a9b1b2b84932b425d09b5bbbe43b",
      "a93f6f810cc741808c6821e9421f0701",
      "dce1837422d840568868410c56293f5a",
      "ef89ecf1dffd42199ce1c94b29b5452c",
      "c91cdba81379459a984c2a7686c564c5",
      "81a719dbecfe47b8bf8935e575b95fa3",
      "c5c2d7a1c30e458e872f92f97bb86f5b",
      "2c42d92ff9b149abb4a6416f6c819e21",
      "ccce1a4f13a6453397b20d4b19a8dfe4"
     ]
    },
    "executionInfo": {
     "elapsed": 5392546,
     "status": "ok",
     "timestamp": 1741541839919,
     "user": {
      "displayName": "Laura Buigues",
      "userId": "10258854000803522964"
     },
     "user_tz": -60
    },
    "id": "jjvXgExTtJnH",
    "outputId": "39c27ef8-3dff-4bbf-d0a3-c9ac394e741e"
   },
   "outputs": [
    {
     "data": {
      "application/vnd.jupyter.widget-view+json": {
       "model_id": "d057bebcc08c478689643845d85f9343",
       "version_major": 2,
       "version_minor": 0
      },
      "text/plain": [
       "model.safetensors:   0%|          | 0.00/263M [00:00<?, ?B/s]"
      ]
     },
     "metadata": {},
     "output_type": "display_data"
    },
    {
     "name": "stderr",
     "output_type": "stream",
     "text": [
      "Some weights of DistilBertForSequenceClassification were not initialized from the model checkpoint at distilbert/distilbert-base-cased and are newly initialized: ['classifier.bias', 'classifier.weight', 'pre_classifier.bias', 'pre_classifier.weight']\n",
      "You should probably TRAIN this model on a down-stream task to be able to use it for predictions and inference.\n"
     ]
    },
    {
     "name": "stdout",
     "output_type": "stream",
     "text": [
      "Epoch 1\n",
      "-------------------------------\n"
     ]
    },
    {
     "name": "stderr",
     "output_type": "stream",
     "text": [
      "  0%|          | 1/329 [00:03<19:42,  3.61s/it]"
     ]
    },
    {
     "name": "stdout",
     "output_type": "stream",
     "text": [
      "loss: 1.955739  [    0/21029]\n"
     ]
    },
    {
     "name": "stderr",
     "output_type": "stream",
     "text": [
      " 16%|█▌        | 51/329 [02:23<13:09,  2.84s/it]"
     ]
    },
    {
     "name": "stdout",
     "output_type": "stream",
     "text": [
      "loss: 0.945845  [ 3200/21029]\n"
     ]
    },
    {
     "name": "stderr",
     "output_type": "stream",
     "text": [
      " 31%|███       | 101/329 [04:47<10:51,  2.86s/it]"
     ]
    },
    {
     "name": "stdout",
     "output_type": "stream",
     "text": [
      "loss: 0.675935  [ 6400/21029]\n"
     ]
    },
    {
     "name": "stderr",
     "output_type": "stream",
     "text": [
      " 46%|████▌     | 151/329 [07:10<08:31,  2.87s/it]"
     ]
    },
    {
     "name": "stdout",
     "output_type": "stream",
     "text": [
      "loss: 0.710889  [ 9600/21029]\n"
     ]
    },
    {
     "name": "stderr",
     "output_type": "stream",
     "text": [
      " 61%|██████    | 201/329 [09:34<06:06,  2.86s/it]"
     ]
    },
    {
     "name": "stdout",
     "output_type": "stream",
     "text": [
      "loss: 0.454678  [12800/21029]\n"
     ]
    },
    {
     "name": "stderr",
     "output_type": "stream",
     "text": [
      " 76%|███████▋  | 251/329 [11:57<03:43,  2.87s/it]"
     ]
    },
    {
     "name": "stdout",
     "output_type": "stream",
     "text": [
      "loss: 0.469410  [16000/21029]\n"
     ]
    },
    {
     "name": "stderr",
     "output_type": "stream",
     "text": [
      " 91%|█████████▏| 301/329 [14:21<01:20,  2.87s/it]"
     ]
    },
    {
     "name": "stdout",
     "output_type": "stream",
     "text": [
      "loss: 0.590506  [19200/21029]\n"
     ]
    },
    {
     "name": "stderr",
     "output_type": "stream",
     "text": [
      "100%|██████████| 329/329 [15:40<00:00,  2.86s/it]\n"
     ]
    },
    {
     "name": "stdout",
     "output_type": "stream",
     "text": [
      "train loss: 0.7376373473634111, train_acc: 0.7186742118027486, train_f1-macro: 0.6737088976990047\n"
     ]
    },
    {
     "name": "stderr",
     "output_type": "stream",
     "text": [
      "100%|██████████| 132/132 [02:09<00:00,  1.02it/s]\n"
     ]
    },
    {
     "name": "stdout",
     "output_type": "stream",
     "text": [
      "Eval Error: \n",
      " F1-macro: 0.7601134399227664 Accuracy: 80.7%, Avg loss: 0.481289 \n",
      "\n",
      "dev loss: 0.4812888911727703, dev_acc: 0.8073318305848856, dev_f1-macro: 0.7601134399227664\n",
      "Epoch 2\n",
      "-------------------------------\n"
     ]
    },
    {
     "name": "stderr",
     "output_type": "stream",
     "text": [
      "  0%|          | 1/329 [00:02<15:35,  2.85s/it]"
     ]
    },
    {
     "name": "stdout",
     "output_type": "stream",
     "text": [
      "loss: 0.347230  [    0/21029]\n"
     ]
    },
    {
     "name": "stderr",
     "output_type": "stream",
     "text": [
      " 16%|█▌        | 51/329 [02:26<13:14,  2.86s/it]"
     ]
    },
    {
     "name": "stdout",
     "output_type": "stream",
     "text": [
      "loss: 0.509007  [ 3200/21029]\n"
     ]
    },
    {
     "name": "stderr",
     "output_type": "stream",
     "text": [
      " 31%|███       | 101/329 [04:50<10:54,  2.87s/it]"
     ]
    },
    {
     "name": "stdout",
     "output_type": "stream",
     "text": [
      "loss: 0.342529  [ 6400/21029]\n"
     ]
    },
    {
     "name": "stderr",
     "output_type": "stream",
     "text": [
      " 46%|████▌     | 151/329 [07:13<08:31,  2.87s/it]"
     ]
    },
    {
     "name": "stdout",
     "output_type": "stream",
     "text": [
      "loss: 0.431751  [ 9600/21029]\n"
     ]
    },
    {
     "name": "stderr",
     "output_type": "stream",
     "text": [
      " 61%|██████    | 201/329 [09:36<06:06,  2.86s/it]"
     ]
    },
    {
     "name": "stdout",
     "output_type": "stream",
     "text": [
      "loss: 0.478671  [12800/21029]\n"
     ]
    },
    {
     "name": "stderr",
     "output_type": "stream",
     "text": [
      " 76%|███████▋  | 251/329 [12:00<03:42,  2.86s/it]"
     ]
    },
    {
     "name": "stdout",
     "output_type": "stream",
     "text": [
      "loss: 0.397747  [16000/21029]\n"
     ]
    },
    {
     "name": "stderr",
     "output_type": "stream",
     "text": [
      " 91%|█████████▏| 301/329 [14:23<01:20,  2.87s/it]"
     ]
    },
    {
     "name": "stdout",
     "output_type": "stream",
     "text": [
      "loss: 0.493945  [19200/21029]\n"
     ]
    },
    {
     "name": "stderr",
     "output_type": "stream",
     "text": [
      "100%|██████████| 329/329 [15:42<00:00,  2.87s/it]\n"
     ]
    },
    {
     "name": "stdout",
     "output_type": "stream",
     "text": [
      "train loss: 0.43014155572852103, train_acc: 0.8359883969756051, train_f1-macro: 0.8265191668928779\n"
     ]
    },
    {
     "name": "stderr",
     "output_type": "stream",
     "text": [
      "100%|██████████| 132/132 [02:10<00:00,  1.01it/s]\n"
     ]
    },
    {
     "name": "stdout",
     "output_type": "stream",
     "text": [
      "Eval Error: \n",
      " F1-macro: 0.7926728758927161 Accuracy: 82.2%, Avg loss: 0.446052 \n",
      "\n",
      "dev loss: 0.44605237685821275, dev_acc: 0.82180567089809, dev_f1-macro: 0.7926728758927161\n",
      "Epoch 3\n",
      "-------------------------------\n"
     ]
    },
    {
     "name": "stderr",
     "output_type": "stream",
     "text": [
      "  0%|          | 1/329 [00:02<15:27,  2.83s/it]"
     ]
    },
    {
     "name": "stdout",
     "output_type": "stream",
     "text": [
      "loss: 0.424692  [    0/21029]\n"
     ]
    },
    {
     "name": "stderr",
     "output_type": "stream",
     "text": [
      " 16%|█▌        | 51/329 [02:26<13:13,  2.85s/it]"
     ]
    },
    {
     "name": "stdout",
     "output_type": "stream",
     "text": [
      "loss: 0.249789  [ 3200/21029]\n"
     ]
    },
    {
     "name": "stderr",
     "output_type": "stream",
     "text": [
      " 31%|███       | 101/329 [04:50<10:55,  2.87s/it]"
     ]
    },
    {
     "name": "stdout",
     "output_type": "stream",
     "text": [
      "loss: 0.209470  [ 6400/21029]\n"
     ]
    },
    {
     "name": "stderr",
     "output_type": "stream",
     "text": [
      " 46%|████▌     | 151/329 [07:13<08:29,  2.86s/it]"
     ]
    },
    {
     "name": "stdout",
     "output_type": "stream",
     "text": [
      "loss: 0.154601  [ 9600/21029]\n"
     ]
    },
    {
     "name": "stderr",
     "output_type": "stream",
     "text": [
      " 61%|██████    | 201/329 [09:37<06:07,  2.87s/it]"
     ]
    },
    {
     "name": "stdout",
     "output_type": "stream",
     "text": [
      "loss: 0.333394  [12800/21029]\n"
     ]
    },
    {
     "name": "stderr",
     "output_type": "stream",
     "text": [
      " 76%|███████▋  | 251/329 [12:00<03:43,  2.87s/it]"
     ]
    },
    {
     "name": "stdout",
     "output_type": "stream",
     "text": [
      "loss: 0.164642  [16000/21029]\n"
     ]
    },
    {
     "name": "stderr",
     "output_type": "stream",
     "text": [
      " 91%|█████████▏| 301/329 [14:24<01:20,  2.87s/it]"
     ]
    },
    {
     "name": "stdout",
     "output_type": "stream",
     "text": [
      "loss: 0.328582  [19200/21029]\n"
     ]
    },
    {
     "name": "stderr",
     "output_type": "stream",
     "text": [
      "100%|██████████| 329/329 [15:43<00:00,  2.87s/it]\n"
     ]
    },
    {
     "name": "stdout",
     "output_type": "stream",
     "text": [
      "train loss: 0.2778209178145171, train_acc: 0.8930524513766703, train_f1-macro: 0.8985298099956595\n"
     ]
    },
    {
     "name": "stderr",
     "output_type": "stream",
     "text": [
      "100%|██████████| 132/132 [02:10<00:00,  1.01it/s]\n"
     ]
    },
    {
     "name": "stdout",
     "output_type": "stream",
     "text": [
      "Eval Error: \n",
      " F1-macro: 0.788402649516408 Accuracy: 82.2%, Avg loss: 0.466572 \n",
      "\n",
      "dev loss: 0.46657221515973407, dev_acc: 0.8221615850041524, dev_f1-macro: 0.788402649516408\n",
      "Epoch 4\n",
      "-------------------------------\n"
     ]
    },
    {
     "name": "stderr",
     "output_type": "stream",
     "text": [
      "  0%|          | 1/329 [00:02<15:38,  2.86s/it]"
     ]
    },
    {
     "name": "stdout",
     "output_type": "stream",
     "text": [
      "loss: 0.132309  [    0/21029]\n"
     ]
    },
    {
     "name": "stderr",
     "output_type": "stream",
     "text": [
      " 16%|█▌        | 51/329 [02:26<13:18,  2.87s/it]"
     ]
    },
    {
     "name": "stdout",
     "output_type": "stream",
     "text": [
      "loss: 0.179246  [ 3200/21029]\n"
     ]
    },
    {
     "name": "stderr",
     "output_type": "stream",
     "text": [
      " 31%|███       | 101/329 [04:49<10:52,  2.86s/it]"
     ]
    },
    {
     "name": "stdout",
     "output_type": "stream",
     "text": [
      "loss: 0.241026  [ 6400/21029]\n"
     ]
    },
    {
     "name": "stderr",
     "output_type": "stream",
     "text": [
      " 46%|████▌     | 151/329 [07:13<08:30,  2.87s/it]"
     ]
    },
    {
     "name": "stdout",
     "output_type": "stream",
     "text": [
      "loss: 0.135611  [ 9600/21029]\n"
     ]
    },
    {
     "name": "stderr",
     "output_type": "stream",
     "text": [
      " 61%|██████    | 201/329 [09:36<06:05,  2.86s/it]"
     ]
    },
    {
     "name": "stdout",
     "output_type": "stream",
     "text": [
      "loss: 0.136766  [12800/21029]\n"
     ]
    },
    {
     "name": "stderr",
     "output_type": "stream",
     "text": [
      " 76%|███████▋  | 251/329 [11:59<03:42,  2.86s/it]"
     ]
    },
    {
     "name": "stdout",
     "output_type": "stream",
     "text": [
      "loss: 0.270681  [16000/21029]\n"
     ]
    },
    {
     "name": "stderr",
     "output_type": "stream",
     "text": [
      " 91%|█████████▏| 301/329 [14:23<01:20,  2.87s/it]"
     ]
    },
    {
     "name": "stdout",
     "output_type": "stream",
     "text": [
      "loss: 0.118557  [19200/21029]\n"
     ]
    },
    {
     "name": "stderr",
     "output_type": "stream",
     "text": [
      "100%|██████████| 329/329 [15:42<00:00,  2.86s/it]\n"
     ]
    },
    {
     "name": "stdout",
     "output_type": "stream",
     "text": [
      "train loss: 0.16677204091498193, train_acc: 0.9416044509962432, train_f1-macro: 0.9489501979470206\n"
     ]
    },
    {
     "name": "stderr",
     "output_type": "stream",
     "text": [
      "100%|██████████| 132/132 [02:09<00:00,  1.02it/s]\n"
     ]
    },
    {
     "name": "stdout",
     "output_type": "stream",
     "text": [
      "Eval Error: \n",
      " F1-macro: 0.7997737943588249 Accuracy: 82.1%, Avg loss: 0.520414 \n",
      "\n",
      "dev loss: 0.5204135826365515, dev_acc: 0.8213311187566734, dev_f1-macro: 0.7997737943588249\n",
      "Epoch 5\n",
      "-------------------------------\n"
     ]
    },
    {
     "name": "stderr",
     "output_type": "stream",
     "text": [
      "  0%|          | 1/329 [00:02<15:32,  2.84s/it]"
     ]
    },
    {
     "name": "stdout",
     "output_type": "stream",
     "text": [
      "loss: 0.076597  [    0/21029]\n"
     ]
    },
    {
     "name": "stderr",
     "output_type": "stream",
     "text": [
      " 16%|█▌        | 51/329 [02:26<13:14,  2.86s/it]"
     ]
    },
    {
     "name": "stdout",
     "output_type": "stream",
     "text": [
      "loss: 0.075208  [ 3200/21029]\n"
     ]
    },
    {
     "name": "stderr",
     "output_type": "stream",
     "text": [
      " 31%|███       | 101/329 [04:50<10:55,  2.88s/it]"
     ]
    },
    {
     "name": "stdout",
     "output_type": "stream",
     "text": [
      "loss: 0.063540  [ 6400/21029]\n"
     ]
    },
    {
     "name": "stderr",
     "output_type": "stream",
     "text": [
      " 46%|████▌     | 151/329 [07:13<08:29,  2.86s/it]"
     ]
    },
    {
     "name": "stdout",
     "output_type": "stream",
     "text": [
      "loss: 0.160256  [ 9600/21029]\n"
     ]
    },
    {
     "name": "stderr",
     "output_type": "stream",
     "text": [
      " 61%|██████    | 201/329 [09:37<06:06,  2.86s/it]"
     ]
    },
    {
     "name": "stdout",
     "output_type": "stream",
     "text": [
      "loss: 0.069967  [12800/21029]\n"
     ]
    },
    {
     "name": "stderr",
     "output_type": "stream",
     "text": [
      " 76%|███████▋  | 251/329 [12:00<03:43,  2.87s/it]"
     ]
    },
    {
     "name": "stdout",
     "output_type": "stream",
     "text": [
      "loss: 0.058142  [16000/21029]\n"
     ]
    },
    {
     "name": "stderr",
     "output_type": "stream",
     "text": [
      " 91%|█████████▏| 301/329 [14:24<01:20,  2.87s/it]"
     ]
    },
    {
     "name": "stdout",
     "output_type": "stream",
     "text": [
      "loss: 0.115504  [19200/21029]\n"
     ]
    },
    {
     "name": "stderr",
     "output_type": "stream",
     "text": [
      "100%|██████████| 329/329 [15:43<00:00,  2.87s/it]\n"
     ]
    },
    {
     "name": "stdout",
     "output_type": "stream",
     "text": [
      "train loss: 0.10214090670563711, train_acc: 0.9666650815540444, train_f1-macro: 0.9720584739788466\n"
     ]
    },
    {
     "name": "stderr",
     "output_type": "stream",
     "text": [
      "100%|██████████| 132/132 [02:10<00:00,  1.01it/s]\n"
     ]
    },
    {
     "name": "stdout",
     "output_type": "stream",
     "text": [
      "Eval Error: \n",
      " F1-macro: 0.8106873491967906 Accuracy: 83.0%, Avg loss: 0.538846 \n",
      "\n",
      "dev loss: 0.5388461945183349, dev_acc: 0.8296357812314628, dev_f1-macro: 0.8106873491967906\n"
     ]
    }
   ],
   "source": [
    "best_dev_f1 = 0.0\n",
    "\n",
    "model = transformers.AutoModelForSequenceClassification.from_pretrained(MODEL_NAME, num_labels=len(list(enc.classes_))).to(device)\n",
    "optimizer = torch.optim.AdamW(model.parameters(), lr=LR, weight_decay=WEIGHT_DECAY)\n",
    "optimizer = torch.optim.Adam(model.parameters(), lr=LR)\n",
    "scheduler = torch.optim.lr_scheduler.CosineAnnealingLR(optimizer, T_max=EPOCHS)\n",
    "loss_fn = torch.nn.CrossEntropyLoss()\n",
    "\n",
    "for t in range(EPOCHS):\n",
    "    print(f\"Epoch {t+1}\\n-------------------------------\")\n",
    "    train_loss, train_acc, train_f1 = train_loop(train_loader, model, loss_fn, optimizer, device, scheduler)\n",
    "    print(f'train loss: {train_loss}, train_acc: {train_acc}, train_f1-macro: {train_f1}')\n",
    "    dev_loss, dev_acc, dev_f1 = eval_loop(dev_loader, model, loss_fn, device)\n",
    "    print(f'dev loss: {dev_loss}, dev_acc: {dev_acc}, dev_f1-macro: {dev_f1}')\n",
    "    if dev_f1 > best_dev_f1: #If current dev_acc is greater than the best value so far\n",
    "        best_dev_f1 = dev_f1 # store it\n",
    "        torch.save(model.state_dict(), 'model.pth')  # save the model to disk under the name of model.pth"
   ]
  },
  {
   "cell_type": "markdown",
   "metadata": {
    "id": "7TC04tGPN5tj"
   },
   "source": [
    "Evaluate now in the test set."
   ]
  },
  {
   "cell_type": "code",
   "execution_count": null,
   "metadata": {
    "colab": {
     "base_uri": "https://localhost:8080/"
    },
    "executionInfo": {
     "elapsed": 164312,
     "status": "ok",
     "timestamp": 1741542009849,
     "user": {
      "displayName": "Laura Buigues",
      "userId": "10258854000803522964"
     },
     "user_tz": -60
    },
    "id": "MPP15M9gtMLb",
    "outputId": "16869616-d77e-4f74-abdd-9b1d5801d4eb"
   },
   "outputs": [
    {
     "name": "stderr",
     "output_type": "stream",
     "text": [
      "Some weights of DistilBertForSequenceClassification were not initialized from the model checkpoint at distilbert/distilbert-base-cased and are newly initialized: ['classifier.bias', 'classifier.weight', 'pre_classifier.bias', 'pre_classifier.weight']\n",
      "You should probably TRAIN this model on a down-stream task to be able to use it for predictions and inference.\n",
      "<ipython-input-32-cfbb2a22d514>:2: FutureWarning: You are using `torch.load` with `weights_only=False` (the current default value), which uses the default pickle module implicitly. It is possible to construct malicious pickle data which will execute arbitrary code during unpickling (See https://github.com/pytorch/pytorch/blob/main/SECURITY.md#untrusted-models for more details). In a future release, the default value for `weights_only` will be flipped to `True`. This limits the functions that could be executed during unpickling. Arbitrary objects will no longer be allowed to be loaded via this mode unless they are explicitly allowlisted by the user via `torch.serialization.add_safe_globals`. We recommend you start setting `weights_only=True` for any use case where you don't have full control of the loaded file. Please open an issue on GitHub for any issues related to this experimental feature.\n",
      "  state_dict = torch.load(\"model.pth\")\n",
      "100%|██████████| 165/165 [02:43<00:00,  1.01it/s]"
     ]
    },
    {
     "name": "stdout",
     "output_type": "stream",
     "text": [
      "Eval Error: \n",
      " F1-macro: 0.7992194086909281 Accuracy: 82.0%, Avg loss: 0.572918 \n",
      "\n"
     ]
    },
    {
     "name": "stderr",
     "output_type": "stream",
     "text": [
      "\n"
     ]
    }
   ],
   "source": [
    "model = transformers.AutoModelForSequenceClassification.from_pretrained(MODEL_NAME, num_labels=len(list(enc.classes_))).to(device)\n",
    "state_dict = torch.load(\"model.pth\")\n",
    "model.load_state_dict(state_dict)\n",
    "model = model.to(device)\n",
    "test_loss, test_acc, test_f1 = eval_loop(test_loader, model, loss_fn, device)"
   ]
  }
 ],
 "metadata": {
  "accelerator": "GPU",
  "colab": {
   "gpuType": "T4",
   "provenance": []
  },
  "kernelspec": {
   "display_name": "Python 3",
   "name": "python3"
  },
  "language_info": {
   "name": "python"
  },
  "widgets": {
   "application/vnd.jupyter.widget-state+json": {
    "2c42d92ff9b149abb4a6416f6c819e21": {
     "model_module": "@jupyter-widgets/base",
     "model_module_version": "1.2.0",
     "model_name": "LayoutModel",
     "state": {
      "_model_module": "@jupyter-widgets/base",
      "_model_module_version": "1.2.0",
      "_model_name": "LayoutModel",
      "_view_count": null,
      "_view_module": "@jupyter-widgets/base",
      "_view_module_version": "1.2.0",
      "_view_name": "LayoutView",
      "align_content": null,
      "align_items": null,
      "align_self": null,
      "border": null,
      "bottom": null,
      "display": null,
      "flex": null,
      "flex_flow": null,
      "grid_area": null,
      "grid_auto_columns": null,
      "grid_auto_flow": null,
      "grid_auto_rows": null,
      "grid_column": null,
      "grid_gap": null,
      "grid_row": null,
      "grid_template_areas": null,
      "grid_template_columns": null,
      "grid_template_rows": null,
      "height": null,
      "justify_content": null,
      "justify_items": null,
      "left": null,
      "margin": null,
      "max_height": null,
      "max_width": null,
      "min_height": null,
      "min_width": null,
      "object_fit": null,
      "object_position": null,
      "order": null,
      "overflow": null,
      "overflow_x": null,
      "overflow_y": null,
      "padding": null,
      "right": null,
      "top": null,
      "visibility": null,
      "width": null
     }
    },
    "81a719dbecfe47b8bf8935e575b95fa3": {
     "model_module": "@jupyter-widgets/base",
     "model_module_version": "1.2.0",
     "model_name": "LayoutModel",
     "state": {
      "_model_module": "@jupyter-widgets/base",
      "_model_module_version": "1.2.0",
      "_model_name": "LayoutModel",
      "_view_count": null,
      "_view_module": "@jupyter-widgets/base",
      "_view_module_version": "1.2.0",
      "_view_name": "LayoutView",
      "align_content": null,
      "align_items": null,
      "align_self": null,
      "border": null,
      "bottom": null,
      "display": null,
      "flex": null,
      "flex_flow": null,
      "grid_area": null,
      "grid_auto_columns": null,
      "grid_auto_flow": null,
      "grid_auto_rows": null,
      "grid_column": null,
      "grid_gap": null,
      "grid_row": null,
      "grid_template_areas": null,
      "grid_template_columns": null,
      "grid_template_rows": null,
      "height": null,
      "justify_content": null,
      "justify_items": null,
      "left": null,
      "margin": null,
      "max_height": null,
      "max_width": null,
      "min_height": null,
      "min_width": null,
      "object_fit": null,
      "object_position": null,
      "order": null,
      "overflow": null,
      "overflow_x": null,
      "overflow_y": null,
      "padding": null,
      "right": null,
      "top": null,
      "visibility": null,
      "width": null
     }
    },
    "8ca3a9b1b2b84932b425d09b5bbbe43b": {
     "model_module": "@jupyter-widgets/controls",
     "model_module_version": "1.5.0",
     "model_name": "FloatProgressModel",
     "state": {
      "_dom_classes": [],
      "_model_module": "@jupyter-widgets/controls",
      "_model_module_version": "1.5.0",
      "_model_name": "FloatProgressModel",
      "_view_count": null,
      "_view_module": "@jupyter-widgets/controls",
      "_view_module_version": "1.5.0",
      "_view_name": "ProgressView",
      "bar_style": "success",
      "description": "",
      "description_tooltip": null,
      "layout": "IPY_MODEL_81a719dbecfe47b8bf8935e575b95fa3",
      "max": 263260784,
      "min": 0,
      "orientation": "horizontal",
      "style": "IPY_MODEL_c5c2d7a1c30e458e872f92f97bb86f5b",
      "value": 263260784
     }
    },
    "a93f6f810cc741808c6821e9421f0701": {
     "model_module": "@jupyter-widgets/controls",
     "model_module_version": "1.5.0",
     "model_name": "HTMLModel",
     "state": {
      "_dom_classes": [],
      "_model_module": "@jupyter-widgets/controls",
      "_model_module_version": "1.5.0",
      "_model_name": "HTMLModel",
      "_view_count": null,
      "_view_module": "@jupyter-widgets/controls",
      "_view_module_version": "1.5.0",
      "_view_name": "HTMLView",
      "description": "",
      "description_tooltip": null,
      "layout": "IPY_MODEL_2c42d92ff9b149abb4a6416f6c819e21",
      "placeholder": "​",
      "style": "IPY_MODEL_ccce1a4f13a6453397b20d4b19a8dfe4",
      "value": " 263M/263M [00:01&lt;00:00, 235MB/s]"
     }
    },
    "c31961e607bb46bfa8711ab1c1380eb1": {
     "model_module": "@jupyter-widgets/controls",
     "model_module_version": "1.5.0",
     "model_name": "HTMLModel",
     "state": {
      "_dom_classes": [],
      "_model_module": "@jupyter-widgets/controls",
      "_model_module_version": "1.5.0",
      "_model_name": "HTMLModel",
      "_view_count": null,
      "_view_module": "@jupyter-widgets/controls",
      "_view_module_version": "1.5.0",
      "_view_name": "HTMLView",
      "description": "",
      "description_tooltip": null,
      "layout": "IPY_MODEL_ef89ecf1dffd42199ce1c94b29b5452c",
      "placeholder": "​",
      "style": "IPY_MODEL_c91cdba81379459a984c2a7686c564c5",
      "value": "model.safetensors: 100%"
     }
    },
    "c5c2d7a1c30e458e872f92f97bb86f5b": {
     "model_module": "@jupyter-widgets/controls",
     "model_module_version": "1.5.0",
     "model_name": "ProgressStyleModel",
     "state": {
      "_model_module": "@jupyter-widgets/controls",
      "_model_module_version": "1.5.0",
      "_model_name": "ProgressStyleModel",
      "_view_count": null,
      "_view_module": "@jupyter-widgets/base",
      "_view_module_version": "1.2.0",
      "_view_name": "StyleView",
      "bar_color": null,
      "description_width": ""
     }
    },
    "c91cdba81379459a984c2a7686c564c5": {
     "model_module": "@jupyter-widgets/controls",
     "model_module_version": "1.5.0",
     "model_name": "DescriptionStyleModel",
     "state": {
      "_model_module": "@jupyter-widgets/controls",
      "_model_module_version": "1.5.0",
      "_model_name": "DescriptionStyleModel",
      "_view_count": null,
      "_view_module": "@jupyter-widgets/base",
      "_view_module_version": "1.2.0",
      "_view_name": "StyleView",
      "description_width": ""
     }
    },
    "ccce1a4f13a6453397b20d4b19a8dfe4": {
     "model_module": "@jupyter-widgets/controls",
     "model_module_version": "1.5.0",
     "model_name": "DescriptionStyleModel",
     "state": {
      "_model_module": "@jupyter-widgets/controls",
      "_model_module_version": "1.5.0",
      "_model_name": "DescriptionStyleModel",
      "_view_count": null,
      "_view_module": "@jupyter-widgets/base",
      "_view_module_version": "1.2.0",
      "_view_name": "StyleView",
      "description_width": ""
     }
    },
    "d057bebcc08c478689643845d85f9343": {
     "model_module": "@jupyter-widgets/controls",
     "model_module_version": "1.5.0",
     "model_name": "HBoxModel",
     "state": {
      "_dom_classes": [],
      "_model_module": "@jupyter-widgets/controls",
      "_model_module_version": "1.5.0",
      "_model_name": "HBoxModel",
      "_view_count": null,
      "_view_module": "@jupyter-widgets/controls",
      "_view_module_version": "1.5.0",
      "_view_name": "HBoxView",
      "box_style": "",
      "children": [
       "IPY_MODEL_c31961e607bb46bfa8711ab1c1380eb1",
       "IPY_MODEL_8ca3a9b1b2b84932b425d09b5bbbe43b",
       "IPY_MODEL_a93f6f810cc741808c6821e9421f0701"
      ],
      "layout": "IPY_MODEL_dce1837422d840568868410c56293f5a"
     }
    },
    "dce1837422d840568868410c56293f5a": {
     "model_module": "@jupyter-widgets/base",
     "model_module_version": "1.2.0",
     "model_name": "LayoutModel",
     "state": {
      "_model_module": "@jupyter-widgets/base",
      "_model_module_version": "1.2.0",
      "_model_name": "LayoutModel",
      "_view_count": null,
      "_view_module": "@jupyter-widgets/base",
      "_view_module_version": "1.2.0",
      "_view_name": "LayoutView",
      "align_content": null,
      "align_items": null,
      "align_self": null,
      "border": null,
      "bottom": null,
      "display": null,
      "flex": null,
      "flex_flow": null,
      "grid_area": null,
      "grid_auto_columns": null,
      "grid_auto_flow": null,
      "grid_auto_rows": null,
      "grid_column": null,
      "grid_gap": null,
      "grid_row": null,
      "grid_template_areas": null,
      "grid_template_columns": null,
      "grid_template_rows": null,
      "height": null,
      "justify_content": null,
      "justify_items": null,
      "left": null,
      "margin": null,
      "max_height": null,
      "max_width": null,
      "min_height": null,
      "min_width": null,
      "object_fit": null,
      "object_position": null,
      "order": null,
      "overflow": null,
      "overflow_x": null,
      "overflow_y": null,
      "padding": null,
      "right": null,
      "top": null,
      "visibility": null,
      "width": null
     }
    },
    "ef89ecf1dffd42199ce1c94b29b5452c": {
     "model_module": "@jupyter-widgets/base",
     "model_module_version": "1.2.0",
     "model_name": "LayoutModel",
     "state": {
      "_model_module": "@jupyter-widgets/base",
      "_model_module_version": "1.2.0",
      "_model_name": "LayoutModel",
      "_view_count": null,
      "_view_module": "@jupyter-widgets/base",
      "_view_module_version": "1.2.0",
      "_view_name": "LayoutView",
      "align_content": null,
      "align_items": null,
      "align_self": null,
      "border": null,
      "bottom": null,
      "display": null,
      "flex": null,
      "flex_flow": null,
      "grid_area": null,
      "grid_auto_columns": null,
      "grid_auto_flow": null,
      "grid_auto_rows": null,
      "grid_column": null,
      "grid_gap": null,
      "grid_row": null,
      "grid_template_areas": null,
      "grid_template_columns": null,
      "grid_template_rows": null,
      "height": null,
      "justify_content": null,
      "justify_items": null,
      "left": null,
      "margin": null,
      "max_height": null,
      "max_width": null,
      "min_height": null,
      "min_width": null,
      "object_fit": null,
      "object_position": null,
      "order": null,
      "overflow": null,
      "overflow_x": null,
      "overflow_y": null,
      "padding": null,
      "right": null,
      "top": null,
      "visibility": null,
      "width": null
     }
    }
   }
  }
 },
 "nbformat": 4,
 "nbformat_minor": 0
}
